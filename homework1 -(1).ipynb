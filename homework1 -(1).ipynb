{
 "cells": [
  {
   "cell_type": "markdown",
   "metadata": {},
   "source": [
    "# Homework 1 (100 points)\n",
    "\n",
    "This homework focuses on the pandas library and clustering. There are no python library restrictions for this homework. Suggested libraries are pandas, numpy, regex, and sklearn.\n",
    "\n",
    "## Exercise 1 (60 points)\n",
    "\n",
    "This exercise will use the [Titanic dataset](https://www.kaggle.com/c/titanic/data) (https://www.kaggle.com/c/titanic/data). Download the file named `train.csv` and place it in the same folder as this notebook.\n",
    "\n",
    "The goal of this exercise is to practice using [pandas](https://pypi.org/project/pandas/) methods. If your:\n",
    "\n",
    "1. code is taking a long time to run\n",
    "2. code involves for loops or while loops\n",
    "3. code spans multiple lines (except for `e` and `m`)\n",
    "\n",
    "look through the pandas documentation for alternatives. This [cheat sheet](https://pandas.pydata.org/Pandas_Cheat_Sheet.pdf) may come in handy.\n",
    "\n",
    "a) Write a function that reads in a filepath to a csv and returns the DataFrame. (5 points)"
   ]
  },
  {
   "cell_type": "code",
   "execution_count": null,
   "metadata": {},
   "outputs": [],
   "source": [
    "import pandas as pd\n",
    "\n",
    "df = pd.read_csv(PATH+'/train.csv')\n",
    "df.describe()"
   ]
  },
  {
   "cell_type": "markdown",
   "metadata": {},
   "source": [
    "b) Write a function that returns the number of rows that have at least one empty column value - (2.5 points)"
   ]
  },
  {
   "cell_type": "code",
   "execution_count": null,
   "metadata": {},
   "outputs": [],
   "source": [
    "def num_nans(df):\n",
    "    return len(df[(df == 0).any(axis=1)])\n",
    "\n",
    "print(\"there are \" +  str(num_nans(df)) + \" rows with at least one empty value\")"
   ]
  },
  {
   "cell_type": "markdown",
   "metadata": {},
   "source": [
    "c) Write a function that removes all columns with more than 200 NaN values - (2.5 points)"
   ]
  },
  {
   "cell_type": "code",
   "execution_count": null,
   "metadata": {},
   "outputs": [],
   "source": [
    "def drop_na(df):\n",
    "    return df.dropna(axis=1,thresh=200)\n",
    "\n",
    "df = drop_na(df)\n",
    "df.columns"
   ]
  },
  {
   "cell_type": "markdown",
   "metadata": {},
   "source": [
    "d) Write a function that replaces `male` with 0 and `female` with 1 - (2.5 points)"
   ]
  },
  {
   "cell_type": "code",
   "execution_count": null,
   "metadata": {},
   "outputs": [],
   "source": [
    "def to_numerical(df):\n",
    "    df2=df['Sex']\n",
    "    df2.replace(\"male\",0,inplace=True)\n",
    "    df2.replace(\"female\",1,inplace=True)\n",
    "    return df2\n",
    "\n",
    "df['Sex'] = to_numerical(df)\n",
    "df.head()\n",
    "df.columns"
   ]
  },
  {
   "cell_type": "markdown",
   "metadata": {},
   "source": [
    "e)  Write a function that adds four columns `First Name`, `Middle Name`, `Last Name`, and `Title` corresponding to the value in the `name` column. - (5 points) \n",
    "\n",
    "For example: `Braund, Mr. Owen Harris` would be: \n",
    "\n",
    "|First Name | Middle Name | Last Name | Title |\n",
    "|-----------|-------------|-----------|-------|\n",
    "| Owen      |  Harris     |  Braund   | Mr    |"
   ]
  },
  {
   "cell_type": "code",
   "execution_count": null,
   "metadata": {},
   "outputs": [],
   "source": [
    "def extract_names(df):\n",
    "    names = df['Name'].str.extract(r'(\\w+),\\s(\\w+)\\.\\s(\\w+)\\s(\\w+)',expand=True)\n",
    "    # names = names.apply(lambda s:[i for i in s if i!=''])\n",
    "    # print(names)\n",
    "    names.columns = ['Last Name', 'Title', 'First Name', 'Middle Name']\n",
    "    # return pd.concat([df, names], axis=1)\n",
    "    return names\n",
    "df[['First Name', 'Middle Name', 'Last Name', 'Title']] = extract_names(df)\n",
    "df.head()"
   ]
  },
  {
   "cell_type": "markdown",
   "metadata": {},
   "source": [
    "f) Write a function that replaces all missing ages with the average age - (2.5 points)"
   ]
  },
  {
   "cell_type": "code",
   "execution_count": null,
   "metadata": {},
   "outputs": [],
   "source": [
    "def replace_with_mean(df):\n",
    "    mean_age=df['Age'].mean()\n",
    "    df['Age'].fillna(mean_age, inplace=True)\n",
    "    return df['Age']\n",
    "\n",
    "df['Age'] = replace_with_mean(df)\n",
    "df.head()"
   ]
  },
  {
   "cell_type": "markdown",
   "metadata": {},
   "source": [
    "The next set of questions focus on visualization. Please use pandas and [matplotlib](https://pypi.org/project/matplotlib/) for all plotting.\n",
    "\n",
    "g) Plot a bar chart of the average age of those that survived and did not survive. Briefly comment on what you observe. - (2.5 points)"
   ]
  },
  {
   "cell_type": "code",
   "execution_count": null,
   "metadata": {},
   "outputs": [],
   "source": [
    "def plot_age(df):\n",
    "    df2=df.groupby('Survived')['Age'].mean()\n",
    "    plt.bar(df2.index,df2.values)\n",
    "    plt.show()\n",
    "plot_age(df)"
   ]
  },
  {
   "cell_type": "markdown",
   "metadata": {},
   "source": [
    "-> your answer here"
   ]
  },
  {
   "cell_type": "markdown",
   "metadata": {},
   "source": [
    "h) Plot a bar chart of the proportion that survived for male and female. Briefly comment on what you observe. - (2.5 points)"
   ]
  },
  {
   "cell_type": "code",
   "execution_count": null,
   "metadata": {},
   "outputs": [],
   "source": [
    "def plot_survived(df):\n",
    "    df2=df.groupby('Survived')['Sex'].agg(lambda x: (x == 1).mean())\n",
    "    plt.bar(df2.index,df2.values)\n",
    "    plt.show()\n",
    "    return df2\n",
    "plot_survived(df)"
   ]
  },
  {
   "cell_type": "markdown",
   "metadata": {},
   "source": [
    "-> your answer here"
   ]
  },
  {
   "cell_type": "markdown",
   "metadata": {},
   "source": [
    "i) Plot a bar chart of the proportion that survived for each title. Briefly comment on what you observe. - (5 points)"
   ]
  },
  {
   "cell_type": "code",
   "execution_count": null,
   "metadata": {},
   "outputs": [],
   "source": [
    "def plot_title(df):\n",
    "    df2=df.groupby('Title')['Survived'].mean()\n",
    "    plt.bar(df2.index,df2.values)\n",
    "    plt.show()\n",
    "    return df2\n",
    "\n",
    "plot_title(df)"
   ]
  },
  {
   "cell_type": "markdown",
   "metadata": {},
   "source": [
    "-> your answer here"
   ]
  },
  {
   "cell_type": "markdown",
   "metadata": {},
   "source": [
    "j) Plot a bar chart of the average fare for those that survived and those that did not survive. Briefly comment on what you observe. - (5 points)"
   ]
  },
  {
   "cell_type": "code",
   "execution_count": null,
   "metadata": {},
   "outputs": [],
   "source": [
    "def plot_fare(df):\n",
    "  df2=df.groupby(\"Survived\")[\"Fare\"].mean()\n",
    "  print(df2)\n",
    "  plt.bar([\"died\", \"survived\"],df2.values)\n",
    "  return\n",
    "plot_fare(df)"
   ]
  },
  {
   "cell_type": "markdown",
   "metadata": {},
   "source": [
    "-> your answer here"
   ]
  },
  {
   "cell_type": "markdown",
   "metadata": {},
   "source": [
    "k) Create a boxplot for the fare of those that survived and those that did not survive. Briefly comment on what you observe. - (5 points)"
   ]
  },
  {
   "cell_type": "code",
   "execution_count": null,
   "metadata": {},
   "outputs": [],
   "source": [
    "df.boxplot(by='Survived', column=['Fare'], grid=True)\n",
    "\n",
    "plt.show()"
   ]
  },
  {
   "cell_type": "markdown",
   "metadata": {},
   "source": [
    "Those who were survived, male or female, all had higher-than-normal fares. This shows that rich people have a greater chance of being survived. In addition, the outlier value of fares for female passengers is higher, which shows that women need to be more dignified and rich to be rescued。"
   ]
  },
  {
   "cell_type": "markdown",
   "metadata": {},
   "source": [
    "k) Create a function to subtract the mean fare from the actual fare then divide by the standard deviation - (2.5 points)"
   ]
  },
  {
   "cell_type": "code",
   "execution_count": null,
   "metadata": {},
   "outputs": [],
   "source": [
    "def centralize(df,s):\n",
    "  mean=df[s].mean()\n",
    "  std=df[s].std()\n",
    "  df2=df\n",
    "  df2[s]=df2[s].apply(lambda x: (x-mean)/std)\n",
    "  return df2\n",
    "df=centralize(df,\"Fare\")\n",
    "df.head()"
   ]
  },
  {
   "cell_type": "markdown",
   "metadata": {},
   "source": [
    "l) Remove all non-numerical columns from the dataframe. - (2.5 points)"
   ]
  },
  {
   "cell_type": "code",
   "execution_count": null,
   "metadata": {},
   "outputs": [],
   "source": [
    "import numpy as np\n",
    "df2 = df.select_dtypes(include=[np.number])\n",
    "print(df2.head())"
   ]
  },
  {
   "cell_type": "markdown",
   "metadata": {},
   "source": [
    "m) Ignoring passenger ID, write a function that returns the names of the N most similar **pairs** of passengers using the euclidean distance and ignoring pairs that have distance zero - (15 points)"
   ]
  },
  {
   "cell_type": "code",
   "execution_count": null,
   "metadata": {},
   "outputs": [],
   "source": [
    "from scipy.spatial.distance import pdist, squareform\n",
    "def N_most_similar_pairs(df, N):\n",
    "    df.index=df['Name']\n",
    "    df = df.select_dtypes(include=[np.number])\n",
    "    df = df.drop(\"PassengerId\", axis=1)\n",
    "    distances = pdist(df, metric='euclidean')\n",
    "    distances = squareform(distances)\n",
    "    indices = np.argsort(distances, axis=None)\n",
    "    pairs = []\n",
    "    width = distances.shape[1]\n",
    "    for i in indices:\n",
    "        row=i//width\n",
    "        col=i%width\n",
    "        if distances[row,col] == 0:\n",
    "            continue\n",
    "        pairs.append((df.index[row], df.index[col], distances[row,col]))\n",
    "        if len(pairs) == N:\n",
    "            break\n",
    "    return pairs[:N]\n",
    "df= pd.read_csv(PATH+'/train.csv')\n",
    "print(\"The 3 most similar pairs of passengers are: \" + str(N_most_similar_pairs(df, 3)))"
   ]
  },
  {
   "cell_type": "markdown",
   "metadata": {},
   "source": [
    "## Exercise 2 (40 points)\n",
    "\n",
    "This exercise will be using the [mnist dataset](http://yann.lecun.com/exdb/mnist/) and challenge your understanding of clustering and kmeans.\n",
    "\n",
    "a) Using Kmeans, cluster the images using 10 clusters and plot the centroid of each cluster. Hint: the centroid of the cluster has the same dimensions as the images in the dataset. - (10 points)"
   ]
  },
  {
   "cell_type": "code",
   "execution_count": null,
   "metadata": {},
   "outputs": [],
   "source": [
    "import pandas as pd\n",
    "import matplotlib.pyplot as plt\n",
    "\n",
    "from sklearn.cluster import KMeans\n",
    "from sklearn.datasets import load_digits\n",
    "\n",
    "mnist = load_digits()\n",
    "# print(mnist.data.shape)\n",
    "# plt.gray()\n",
    "# plt.matshow(mnist.images[1])\n",
    "# plt.show()\n",
    "data = mnist.data\n",
    "kmeans = KMeans(n_clusters=10)\n",
    "kmeans.fit(data)\n",
    "centroids = kmeans.cluster_centers_\n",
    "for i in range(10):\n",
    "    plt.imshow(centroids[i].reshape(8, 8), cmap=\"gray\")\n",
    "    plt.show()\n",
    "\n",
    "# your code here"
   ]
  },
  {
   "cell_type": "markdown",
   "metadata": {},
   "source": [
    "b) Each of the images has a label corresponding to the digit that the image represents. These labels generate a clustering of the images where all images of digit 1 for example are in cluster labeled `1`. Compare the [silhouette scores](https://scikit-learn.org/stable/modules/generated/sklearn.metrics.silhouette_score.html) of the clustering you created above to those of the clustering generated from the labels attached to each image. Explain - (10 points)"
   ]
  },
  {
   "cell_type": "code",
   "execution_count": null,
   "metadata": {},
   "outputs": [],
   "source": [
    "from sklearn.metrics import silhouette_score\n",
    "\n",
    "\n",
    "kmeans_silhouette_score = silhouette_score(data, kmeans.labels_)\n",
    "print(kmeans_silhouette_score)\n",
    "\n",
    "\n",
    "labels_silhouette_score = silhouette_score(data, mnist.target)\n",
    "print(labels_silhouette_score)\n"
   ]
  },
  {
   "cell_type": "markdown",
   "metadata": {},
   "source": [
    "The result shows that the KMeans clustering has a higher silhouette score than the clustering generated from the labels. It means that the objects in the KMeans clustering are more similar to each other within their own clusters and less similar to objects in other clusters, compared to the clustering generated from the labels. \n",
    "So KMeans clustering is better in this case."
   ]
  },
  {
   "cell_type": "markdown",
   "metadata": {},
   "source": [
    "c) Download the CIFAR-10 dataset [here](https://www.cs.toronto.edu/~kriz/cifar.html). Open `batch_1` by following the documentation on the web page. Plot a random image from the dataset. - (5 points)"
   ]
  },
  {
   "cell_type": "code",
   "execution_count": null,
   "metadata": {},
   "outputs": [],
   "source": [
    "import numpy as np\n",
    "def unpickle(file):\n",
    "    import pickle\n",
    "    with open(file, 'rb') as fo:\n",
    "        dict = pickle.load(fo, encoding='bytes')\n",
    "    return dict\n",
    "\n",
    "data=unpickle(\"./data_batch_1\")\n",
    "print(data.keys())\n",
    "X=data[b'data']\n",
    "y=np.array(data[b'labels']).reshape(-1,1)\n",
    "print(X.shape)\n",
    "print(y.shape)\n",
    "\n",
    "# randomly pick a row\n",
    "rand_row=np.random.randint(0,X.shape[0])\n",
    "print(rand_row)\n",
    "\n",
    "import matplotlib.pyplot as plt\n",
    "rand_image=X[rand_row].reshape(32,32,3)\n",
    "plt.imshow(rand_image)\n",
    "plt.show()"
   ]
  },
  {
   "cell_type": "markdown",
   "metadata": {},
   "source": [
    "d) This image is 32 x 32 = 1024 pixels and each pixel is a 3-dimensional object of RGB (Red, Green, Blue) intensities. So, in a way, we have a dataset of 1024 3-dimensional data points. By applying Kmeans to this dataset, we are clustering for similar colors (so all the blues might be in the same cluster etc.). The centroid of each cluster will also be an RGB color. We can then replace every pixel in the original image with the centroid of the cluster it was assigned to, thus only using K colors to recreate the image.\n",
    "\n",
    "Using the same image as in c), produce an image that only uses 4 colors (the 4 centroids of the clusters obtained by clustering the image itself using Kmeans). - (10 points)\n",
    "\n",
    "For example, if the original image is the following:"
   ]
  },
  {
   "cell_type": "code",
   "execution_count": 2,
   "metadata": {},
   "outputs": [
    {
     "data": {
      "image/png": "[encoded data removed]",
      "text/plain": [
       "<IPython.core.display.Image object>"
      ]
     },
     "execution_count": 2,
     "metadata": {
      "image/png": {
       "height": 300,
       "width": 300
      }
     },
     "output_type": "execute_result"
    }
   ],
   "source": [
    "from IPython.display import Image\n",
    "Image(filename=\"frog.png\", width=300, height=300)"
   ]
  },
  {
   "cell_type": "markdown",
   "metadata": {},
   "source": [
    "The transformation, using only 4 colors / centroids would look like:"
   ]
  },
  {
   "cell_type": "code",
   "execution_count": 3,
   "metadata": {},
   "outputs": [
    {
     "data": {
      "image/png": "[encoded data removed]",
      "text/plain": [
       "<IPython.core.display.Image object>"
      ]
     },
     "execution_count": 3,
     "metadata": {
      "image/png": {
       "height": 300,
       "width": 300
      }
     },
     "output_type": "execute_result"
    }
   ],
   "source": [
    "Image(filename=\"frog_4.png\", width=300, height=300)"
   ]
  },
  {
   "cell_type": "code",
   "execution_count": null,
   "metadata": {},
   "outputs": [],
   "source": [
    "# from IPython.display import Image\n",
    "# image_f=Image(filename=\"frog.png\", width=300, height=300)\n",
    "# from PIL import Image\n",
    "# image = Image.open(image_f.filename)\n",
    "image = rand_image\n",
    "image = np.array(image)\n",
    "print(image.shape)\n",
    "# Flatten the image into a 83332x3 array\n",
    "flattened_image = image.reshape(-1, 3)\n",
    "print(flattened_image.shape)\n",
    "\n",
    "# Apply KMeans clustering to the flattened image\n",
    "kmeans = KMeans(n_clusters=4)\n",
    "kmeans.fit(flattened_image)\n",
    "\n",
    "# Get the centroids of the clusters\n",
    "centroids = kmeans.cluster_centers_\n",
    "print(centroids)\n",
    "print(\"*\"*50)\n",
    "# Assign each pixel to its nearest centroid\n",
    "labels = kmeans.predict(flattened_image)\n",
    "print(len(labels))\n",
    "new_image = centroids[labels].reshape(32, 32, 3)\n",
    "print(new_image)\n",
    "plt.imshow(new_image)\n",
    "plt.show()"
   ]
  },
  {
   "cell_type": "markdown",
   "metadata": {},
   "source": [
    "e) From the code above, write a function that can handle any number of chosen colors. Demonstrate it working on the same picture using 2 colors and 10 colors. - (5pts)"
   ]
  },
  {
   "cell_type": "code",
   "execution_count": null,
   "metadata": {},
   "outputs": [],
   "source": [
    "# from IPython.display import Image\n",
    "# image_f=Image(filename=\"frog.png\", width=300, height=300)\n",
    "# from PIL import Image\n",
    "# image = Image.open(image_f.filename)\n",
    "image = rand_image\n",
    "image = np.array(image)\n",
    "print(image.shape)\n",
    "# Flatten the image into a 83332x3 array\n",
    "flattened_image = image.reshape(-1, 3)\n",
    "print(flattened_image.shape)\n",
    "\n",
    "# Apply KMeans clustering to the flattened image\n",
    "num=input(\"please enter the number of color:\")\n",
    "kmeans = KMeans(n_clusters=num)\n",
    "kmeans.fit(flattened_image)\n",
    "\n",
    "# Get the centroids of the clusters\n",
    "centroids = kmeans.cluster_centers_\n",
    "print(centroids)\n",
    "print(\"*\"*50)\n",
    "# Assign each pixel to its nearest centroid\n",
    "labels = kmeans.predict(flattened_image)\n",
    "print(len(labels))\n",
    "new_image = centroids[labels].reshape(32, 32, 3)\n",
    "print(new_image)\n",
    "plt.imshow(new_image)\n",
    "plt.show()"
   ]
  }
 ],
 "metadata": {
  "kernelspec": {
   "display_name": "Python 3 (ipykernel)",
   "language": "python",
   "name": "python3"
  },
  "language_info": {
   "codemirror_mode": {
    "name": "ipython",
    "version": 3
   },
   "file_extension": ".py",
   "mimetype": "text/x-python",
   "name": "python",
   "nbconvert_exporter": "python",
   "pygments_lexer": "ipython3",
   "version": "3.9.7"
  },
  "vscode": {
   "interpreter": {
    "hash": "e7370f93d1d0cde622a1f8e1c04877d8463912d04d973331ad4851f04de6915a"
   }
  }
 },
 "nbformat": 4,
 "nbformat_minor": 2
}
